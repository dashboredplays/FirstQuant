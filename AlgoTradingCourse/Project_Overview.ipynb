{
 "cells": [
  {
   "cell_type": "markdown",
   "metadata": {},
   "source": [
    "####  Since Python is slow, we can use different libraries that \"trigger\" different languages, like C.\n",
    "numPy executes C code, making it faster and popular.\n",
    "#### Algorithmic Trading Process\n",
    "1. Collect Data\n",
    "2. Develop hypothesis for a strategy\n",
    "3. Backtest strategy\n",
    "    - Test with largest firms in different markets / countries\n",
    "4. Implement strategy in production\n",
    "#### API\n",
    "An API (Application Programming Interface) a way for your software to interact / control someone else's software\n",
    "- **Get** request: Get data\n",
    "- **Post** request: Add data to DB exposed by API\n",
    "- **Put** request: Add and overwrite data in DB exposed by API\n",
    "- **Delete** request: Delete data from API's DB"
   ]
  },
  {
   "cell_type": "markdown",
   "metadata": {},
   "source": [
    "### Project 1: S&P 500 Project\n",
    "- World's most popular stock market index.\n",
    "- Many investment funds are benchmarked to this. They seek to replicate the performance of this index by owning all stocks held in the index.\n",
    "- Market capitalization-weighted (large companies get larget weight in index)\n",
    "    - In this project, all companies will have same weight."
   ]
  },
  {
   "cell_type": "markdown",
   "metadata": {},
   "source": [
    "### Project 2: Momentum Investing Strategy\n",
    "- A Mmomentum Investing strat would suggest investing in Apple b/c of its higher recent price return."
   ]
  },
  {
   "cell_type": "markdown",
   "metadata": {},
   "source": [
    "### Project 3: Value Investing Strategy\n",
    "- Investing in stocks that are trading below perceived intrinsic value.\n",
    "- Relies on multiples, a way investors evaluate how valuable a company is\n",
    "    - Price to earnings ratio (stock price / earnings per share)\n",
    "    - Price to book value ratio (stock price / book values per share)\n",
    "    - Price to free cash flow ratio (stock price / free cash flow per share)\n",
    "- Minimize impact of any specific multiple by using a composite\n"
   ]
  }
 ],
 "metadata": {
  "language_info": {
   "name": "python"
  }
 },
 "nbformat": 4,
 "nbformat_minor": 2
}
