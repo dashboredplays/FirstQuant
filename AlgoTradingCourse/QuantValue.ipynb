{
 "cells": [
  {
   "cell_type": "code",
   "execution_count": 3,
   "metadata": {},
   "outputs": [],
   "source": [
    "import numpy as np\n",
    "import pandas as pd\n",
    "import xlsxwriter\n",
    "from scipy import stats\n",
    "import math\n",
    "import yfinance as yf"
   ]
  },
  {
   "cell_type": "markdown",
   "metadata": {},
   "source": [
    "To begin, we are going to do a simple model with only 1 value metric - price to earnings ratio (take their stock price and divide by how much earnings you expect them to have over the next year.)"
   ]
  },
  {
   "cell_type": "code",
   "execution_count": 5,
   "metadata": {},
   "outputs": [
    {
     "data": {
      "text/plain": [
       "33.335463728191"
      ]
     },
     "execution_count": 5,
     "metadata": {},
     "output_type": "execute_result"
    }
   ],
   "source": [
    "# price to earnings ratio = price per share / earnings per share\n",
    "# earnings per share = net income / end of period common shares outstanding\n",
    "# common shares = shares you normally trade\n",
    "# outstanding shares = shares currently owned by all shareholders (excluding treasury shares, which are owned by the company itself)\n",
    "# pe ratio can have different calculations.\n",
    "aapl = yf.Ticker(\"AAPL\")\n",
    "price = aapl.info['previousClose']\n",
    "net_income = aapl.info['netIncomeToCommon']\n",
    "outstanding_shares = aapl.info['sharesOutstanding']\n",
    "eps = net_income / outstanding_shares\n",
    "pe_ratio = price / eps\n",
    "pe_ratio"
   ]
  }
 ],
 "metadata": {
  "kernelspec": {
   "display_name": "Python 3",
   "language": "python",
   "name": "python3"
  },
  "language_info": {
   "codemirror_mode": {
    "name": "ipython",
    "version": 3
   },
   "file_extension": ".py",
   "mimetype": "text/x-python",
   "name": "python",
   "nbconvert_exporter": "python",
   "pygments_lexer": "ipython3",
   "version": "3.12.2"
  }
 },
 "nbformat": 4,
 "nbformat_minor": 2
}
